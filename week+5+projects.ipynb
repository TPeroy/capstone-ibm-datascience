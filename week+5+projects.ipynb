{
 "cells": [
  {
   "cell_type": "code",
   "execution_count": null,
   "metadata": {},
   "outputs": [
    {
     "name": "stdout",
     "output_type": "stream",
     "text": [
      "Fetching package metadata ...............\n",
      "Solving package specifications: .\n",
      "\n",
      "Package plan for installation in environment C:\\Users\\user\\Anaconda3:\n",
      "\n",
      "The following NEW packages will be INSTALLED:\n",
      "\n",
      "    conda-package-handling: 1.6.0-py36h70ac491_2  conda-forge\n",
      "    geographiclib:          1.50-py_0             conda-forge\n",
      "    geopy:                  1.21.0-py_0           conda-forge\n",
      "    python_abi:             3.6-1_cp36m           conda-forge\n",
      "    tqdm:                   4.45.0-pyh9f0ad1d_0   conda-forge\n",
      "\n",
      "The following packages will be UPDATED:\n",
      "\n",
      "    conda:                  4.3.30-py36h7e176b0_0             --> 4.8.3-py36h9f0ad1d_1    conda-forge\n",
      "    menuinst:               1.4.10-py36h42196fb_0             --> 1.4.16-py36_0           conda-forge\n",
      "    pycosat:                0.6.2-py36hf17546d_1              --> 0.6.3-py36h68a101e_1004 conda-forge\n",
      "    vc:                     14-h2379b0c_2                     --> 14.1-h869be7e_1         conda-forge\n",
      "    vs2015_runtime:         14.0.25123-hd4c4e62_2             --> 14.16.27012-h30e32a0_2  conda-forge\n",
      "\n",
      "The following packages will be SUPERSEDED by a higher-priority channel:\n",
      "\n",
      "    conda-env:              2.6.0-h36134e3_1                  --> 2.6.0-1                 conda-forge\n",
      "\n"
     ]
    },
    {
     "name": "stderr",
     "output_type": "stream",
     "text": [
      "ERROR conda.core.link:_execute_actions(337): An error occurred while installing package 'conda-forge::tqdm-4.45.0-pyh9f0ad1d_0'.\n",
      "CondaError: Cannot link a source that does not exist. C:\\Users\\user\\Anaconda3\\Scripts\\conda.exe\n",
      "Running `conda clean --packages` may resolve your problem.\n",
      "Attempting to roll back.\n",
      "\n",
      "\n",
      "CondaError: Cannot link a source that does not exist. C:\\Users\\user\\Anaconda3\\Scripts\\conda.exe\n",
      "Running `conda clean --packages` may resolve your problem.\n",
      "\n",
      "\n"
     ]
    },
    {
     "name": "stdout",
     "output_type": "stream",
     "text": [
      "Fetching package metadata ...............\n",
      "Solving package specifications: .\n",
      "\n",
      "Package plan for installation in environment C:\\Users\\user\\Anaconda3:\n",
      "\n",
      "The following NEW packages will be INSTALLED:\n",
      "\n",
      "    _anaconda_depends:      5.0.1-py36h8316230_2             \n",
      "    altair:                 4.1.0-py_1            conda-forge\n",
      "    blas:                   1.0-mkl                          \n",
      "    branca:                 0.4.0-py_0            conda-forge\n",
      "    conda-package-handling: 1.6.0-py36h70ac491_2  conda-forge\n",
      "    folium:                 0.5.0-py_0            conda-forge\n",
      "    python_abi:             3.6-1_cp36m           conda-forge\n",
      "    tqdm:                   4.45.0-pyh9f0ad1d_0   conda-forge\n",
      "    vincent:                0.4.4-py_1            conda-forge\n",
      "\n",
      "The following packages will be UPDATED:\n",
      "\n",
      "    anaconda:               5.0.1-py36h8316230_2              --> custom-py36_1                      \n",
      "    conda:                  4.3.30-py36h7e176b0_0             --> 4.8.3-py36h9f0ad1d_1    conda-forge\n",
      "    menuinst:               1.4.10-py36h42196fb_0             --> 1.4.16-py36_0           conda-forge\n",
      "    pycosat:                0.6.2-py36hf17546d_1              --> 0.6.3-py36h68a101e_1004 conda-forge\n",
      "    vc:                     14-h2379b0c_2                     --> 14.1-h869be7e_1         conda-forge\n",
      "    vs2015_runtime:         14.0.25123-hd4c4e62_2             --> 14.16.27012-h30e32a0_2  conda-forge\n",
      "\n",
      "The following packages will be SUPERSEDED by a higher-priority channel:\n",
      "\n",
      "    conda-env:              2.6.0-h36134e3_1                  --> 2.6.0-1                 conda-forge\n",
      "\n"
     ]
    },
    {
     "name": "stderr",
     "output_type": "stream",
     "text": [
      "ERROR conda.core.link:_execute_actions(337): An error occurred while installing package 'conda-forge::tqdm-4.45.0-pyh9f0ad1d_0'.\n",
      "CondaError: Cannot link a source that does not exist. C:\\Users\\user\\Anaconda3\\Scripts\\conda.exe\n",
      "Running `conda clean --packages` may resolve your problem.\n",
      "Attempting to roll back.\n",
      "\n",
      "\n",
      "CondaError: Cannot link a source that does not exist. C:\\Users\\user\\Anaconda3\\Scripts\\conda.exe\n",
      "Running `conda clean --packages` may resolve your problem.\n",
      "\n",
      "\n"
     ]
    }
   ],
   "source": [
    "#import all the libraries\n",
    "import numpy as np # maths library\n",
    "import pandas as pd # dataframe library\n",
    "pd.set_option('display.max_columns', None)\n",
    "pd.set_option('display.max_rows', None)\n",
    "!conda install -c conda-forge geopy --yes\n",
    "from geopy.geocoders import Nominatim\n",
    "!conda install -c conda-forge folium=0.5.0 --yes \n",
    "import folium\n"
   ]
  },
  {
   "cell_type": "code",
   "execution_count": null,
   "metadata": {
    "collapsed": true
   },
   "outputs": [],
   "source": [
    "#catalogue of Toronto data in a file, csv opened\n",
    "csv_path='https://www.toronto.ca/ext/open_data/catalog/data_set_files/2016_neighbourhood_profiles.csv'\n",
    "df = pd.read_csv(csv_path,encoding='latin1')\n",
    "print('Data loaded')"
   ]
  },
  {
   "cell_type": "code",
   "execution_count": null,
   "metadata": {
    "collapsed": true
   },
   "outputs": [],
   "source": [
    "#to display the dataframe to check it is right\n",
    "df.head()"
   ]
  },
  {
   "cell_type": "code",
   "execution_count": null,
   "metadata": {
    "collapsed": true
   },
   "outputs": [],
   "source": [
    "#printing a list of neighbourhoods\n",
    "Neighbourhoods = list(df.columns.values)\n",
    "Neighbourhoods = Neighbourhoods[5:]\n",
    "print(Neighbourhoods)"
   ]
  },
  {
   "cell_type": "code",
   "execution_count": null,
   "metadata": {
    "collapsed": true
   },
   "outputs": [],
   "source": [
    "dfToronto = pd.DataFrame(index=Neighbourhoods, columns=[\"Population_2016\",\"Income_2016\"])\n",
    "dfToronto.head()"
   ]
  },
  {
   "cell_type": "code",
   "execution_count": null,
   "metadata": {
    "collapsed": true
   },
   "outputs": [],
   "source": [
    "#extracting the populations and incomes in 2016 for the neighbourhoods in a table\n",
    "#and sorting by increasing income\n",
    "for index, row in dfToronto.iterrows():\n",
    "    dfToronto.at[index, 'Population_2016'] = df[index][2]\n",
    "    dfToronto.at[index, 'Income_2016'] = df[index][2264]\n",
    "dfToronto.sort_values('Income_2016')"
   ]
  },
  {
   "cell_type": "code",
   "execution_count": null,
   "metadata": {
    "collapsed": true
   },
   "outputs": [],
   "source": [
    "import requests\n",
    "import lxml.html as lh\n",
    "import pandas as pd"
   ]
  },
  {
   "cell_type": "code",
   "execution_count": null,
   "metadata": {
    "collapsed": true
   },
   "outputs": [],
   "source": [
    "#extract,store and parse the data\n",
    "wikipedia_link='https://en.wikipedia.org/wiki/List_of_postal_codes_of_Canada:_M'\n",
    "wikipedia_page=requests.get(wikipedia_link)\n",
    "wikipedia_page = lh.fromstring(wikipedia_page.content)\n",
    "tr_elements = wikipedia_page.xpath('//tr')\n",
    "[len(T) for T in tr_elements[:12]]"
   ]
  },
  {
   "cell_type": "code",
   "execution_count": null,
   "metadata": {
    "collapsed": true
   },
   "outputs": [],
   "source": [
    "#store each first element\n",
    "tr_elements = wikipedia_page.xpath('//tr')\n",
    "col=[]\n",
    "i=0\n",
    "for t in tr_elements[0]:\n",
    "    i+=1\n",
    "    name=t.text_content()\n",
    "    print(name)\n",
    "    col.append((name,[]))"
   ]
  },
  {
   "cell_type": "code",
   "execution_count": null,
   "metadata": {
    "collapsed": true
   },
   "outputs": [],
   "source": [
    "for j in range(1,len(tr_elements)):\n",
    "    T=tr_elements[j]\n",
    "    if len(T)!=3:\n",
    "        break\n",
    "    i=0\n",
    "    \n",
    "    #Iterate through each element of the row\n",
    "    for t in T.iterchildren():\n",
    "        data=t.text_content() \n",
    "        if i>0\n",
    "            try:\n",
    "                data=int(data)\n",
    "            except:\n",
    "                pass\n",
    "        col[i][1].append(data)\n",
    "        i+=1"
   ]
  },
  {
   "cell_type": "code",
   "execution_count": null,
   "metadata": {
    "collapsed": true
   },
   "outputs": [],
   "source": [
    "# dictionary into a dataframe\n",
    "Dict={title:column for (title,column) in col}\n",
    "df=pd.DataFrame(Dict)"
   ]
  },
  {
   "cell_type": "code",
   "execution_count": null,
   "metadata": {
    "collapsed": true
   },
   "outputs": [],
   "source": [
    "# clean\n",
    "df = df.replace(r'\\n','', regex=True)\n",
    "df.columns = ['Postcode', 'Borough', 'Neighbourhood']\n",
    "df.head()"
   ]
  },
  {
   "cell_type": "code",
   "execution_count": null,
   "metadata": {
    "collapsed": true
   },
   "outputs": [],
   "source": [
    "#fixing index\n",
    "df.drop(df[df['Borough'] == 'Not assigned'].index, inplace=True)\n",
    "df.index = range(len(df))\n",
    "df"
   ]
  },
  {
   "cell_type": "code",
   "execution_count": null,
   "metadata": {
    "collapsed": true
   },
   "outputs": [],
   "source": []
  }
 ],
 "metadata": {
  "kernelspec": {
   "display_name": "Python 3",
   "language": "python",
   "name": "python3"
  },
  "language_info": {
   "codemirror_mode": {
    "name": "ipython",
    "version": 3
   },
   "file_extension": ".py",
   "mimetype": "text/x-python",
   "name": "python",
   "nbconvert_exporter": "python",
   "pygments_lexer": "ipython3",
   "version": "3.6.3"
  }
 },
 "nbformat": 4,
 "nbformat_minor": 2
}
